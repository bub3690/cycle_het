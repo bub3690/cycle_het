{
 "cells": [
  {
   "cell_type": "code",
   "execution_count": null,
   "metadata": {},
   "outputs": [],
   "source": []
  },
  {
   "cell_type": "code",
   "execution_count": null,
   "metadata": {},
   "outputs": [],
   "source": []
  },
  {
   "cell_type": "code",
   "execution_count": null,
   "metadata": {},
   "outputs": [],
   "source": [
    "# torch\n",
    "import torch\n",
    "import torch.nn as nn\n"
   ]
  },
  {
   "cell_type": "code",
   "execution_count": 4,
   "metadata": {},
   "outputs": [
    {
     "name": "stdout",
     "output_type": "stream",
     "text": [
      "tensor([[0.0000, 0.0000],\n",
      "        [0.0000, 0.3333],\n",
      "        [0.0000, 0.6667],\n",
      "        [0.0000, 1.0000],\n",
      "        [0.3333, 0.0000],\n",
      "        [0.3333, 0.3333],\n",
      "        [0.3333, 0.6667],\n",
      "        [0.3333, 1.0000],\n",
      "        [0.6667, 0.0000],\n",
      "        [0.6667, 0.3333],\n",
      "        [0.6667, 0.6667],\n",
      "        [0.6667, 1.0000],\n",
      "        [1.0000, 0.0000],\n",
      "        [1.0000, 0.3333],\n",
      "        [1.0000, 0.6667],\n",
      "        [1.0000, 1.0000]])\n"
     ]
    },
    {
     "data": {
      "text/plain": [
       "torch.Size([16, 2])"
      ]
     },
     "execution_count": 4,
     "metadata": {},
     "output_type": "execute_result"
    }
   ],
   "source": [
    "def get_mesh_grid(H, W, device):\n",
    "    # H x W 그리드 생성 (Normalized Coordinates)\n",
    "    grid_x, grid_y = torch.meshgrid(\n",
    "        torch.linspace(0, 1, steps=H),\n",
    "        torch.linspace(0, 1, steps=W)\n",
    "    )\n",
    "    positions = torch.stack([grid_x.flatten(), grid_y.flatten()], dim=1)  # (H*W, 2)\n",
    "    return positions.to(device)\n",
    "\n",
    "# Example Usage in Training\n",
    "H, W = 4,4  # Example grid size\n",
    "positions = get_mesh_grid(H, W,'cpu')  # ROI 위치 정보\n",
    "print(positions)\n",
    "positions.shape"
   ]
  },
  {
   "cell_type": "code",
   "execution_count": null,
   "metadata": {},
   "outputs": [],
   "source": []
  }
 ],
 "metadata": {
  "kernelspec": {
   "display_name": "ssl",
   "language": "python",
   "name": "python3"
  },
  "language_info": {
   "codemirror_mode": {
    "name": "ipython",
    "version": 3
   },
   "file_extension": ".py",
   "mimetype": "text/x-python",
   "name": "python",
   "nbconvert_exporter": "python",
   "pygments_lexer": "ipython3",
   "version": "3.8.18"
  }
 },
 "nbformat": 4,
 "nbformat_minor": 2
}
